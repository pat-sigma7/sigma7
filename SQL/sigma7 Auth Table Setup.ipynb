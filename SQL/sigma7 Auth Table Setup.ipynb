{
    "metadata": {
        "kernelspec": {
            "name": "SQL",
            "display_name": "SQL",
            "language": "sql"
        },
        "language_info": {
            "name": "sql",
            "version": ""
        }
    },
    "nbformat_minor": 2,
    "nbformat": 4,
    "cells": [
        {
            "cell_type": "markdown",
            "source": [
                "# sigma7 User and Dashboard Data Schema\n",
                "\n",
                "  \n",
                "\n",
                "Creating the schema(s) for sigma7 Meta"
            ],
            "metadata": {
                "azdata_cell_guid": "e88163e6-d2ab-4e40-b0d6-f6d3a6311eec"
            }
        },
        {
            "cell_type": "code",
            "source": [
                "CREATE SCHEMA META;"
            ],
            "metadata": {
                "azdata_cell_guid": "efbfdb33-250e-4702-8fac-902ed422afdf"
            },
            "outputs": [
                {
                    "output_type": "error",
                    "ename": "",
                    "evalue": "Msg 15247, Level 16, State 1, Line 1\r\nUser does not have permission to perform this action.",
                    "traceback": []
                },
                {
                    "output_type": "error",
                    "ename": "",
                    "evalue": "Msg 2759, Level 16, State 0, Line 1\r\nCREATE SCHEMA failed due to previous errors.",
                    "traceback": []
                },
                {
                    "output_type": "display_data",
                    "data": {
                        "text/html": "Total execution time: 00:00:00.047"
                    },
                    "metadata": {}
                }
            ],
            "execution_count": 9
        },
        {
            "cell_type": "markdown",
            "source": [
                "Creating the master table for the schema.\n",
                "\n",
                "USER\\_INFO table contains the info on users. We do NOT store passwords here, only user meta-data.\n",
                "\n",
                "Also creating indices around commonly used identifiers outside of the S7ID. See below."
            ],
            "metadata": {
                "azdata_cell_guid": "fa86cdd5-5d61-4058-a9b9-d4b47ab0eeb9"
            }
        },
        {
            "cell_type": "code",
            "source": [
                "DROP TABLE IF EXISTS META.USER_INFO;\r\n",
                "CREATE TABLE META.USER_INFO(\r\n",
                "    S7ID INT PRIMARY KEY IDENTITY (1,1),\r\n",
                "    _EMAIL VARCHAR(64) NOT NULL UNIQUE,\r\n",
                "    FULL_NAME VARCHAR(64),\r\n",
                "    USERNAME VARCHAR(40) NOT NULL UNIQUE,\r\n",
                "    PREF_USERNAME VARCHAR(40),\r\n",
                "    JOINED_ON DATE NOT NULL,\r\n",
                "    IS_VERIFIED BIT NOT NULL,\r\n",
                "    IS_PREMIUM BIT NOT NULL\r\n",
                "); \r\n",
                "\r\n",
                "--DROP INDEX IDX_EMAILL ON META.USER_INFO;\r\n",
                "CREATE INDEX IDX_EMAIL\r\n",
                "ON META.USER_INFO (S7ID, _EMAIL);\r\n",
                "\r\n",
                "--DROP INDEX IDX_USERNAME ON META.USER_INFO;\r\n",
                "CREATE INDEX IDX_USERNAME\r\n",
                "ON META.USER_INFO (S7ID, USERNAME);\r\n",
                "\r\n",
                "--DROP INDEX IDX_PREFNAME ON META.USER_INFO;\r\n",
                "CREATE INDEX IDX_PREFNAME\r\n",
                "ON META.USER_INFO (S7ID, PREF_USERNAME);\r\n",
                "\r\n",
                "-- It is important this code is run first before any other tables."
            ],
            "metadata": {
                "azdata_cell_guid": "c3e29f94-f626-4fe5-9eda-e2efb6db8eea",
                "tags": []
            },
            "outputs": [
                {
                    "output_type": "display_data",
                    "data": {
                        "text/html": "Commands completed successfully."
                    },
                    "metadata": {}
                },
                {
                    "output_type": "display_data",
                    "data": {
                        "text/html": "Total execution time: 00:00:00.135"
                    },
                    "metadata": {}
                }
            ],
            "execution_count": 4
        },
        {
            "cell_type": "markdown",
            "source": [
                "Make sure to run the code above before any tables below, otherwise there will be errors.\n",
                "\n",
                "Creating the dashboards table"
            ],
            "metadata": {
                "azdata_cell_guid": "8d089f43-2222-430e-95b1-3cdfd4ad1005"
            }
        },
        {
            "cell_type": "code",
            "source": [
                "DROP TABLE IF EXISTS META.DASHBOARDS;\r\n",
                "CREATE TABLE META.DASHBOARDS(\r\n",
                "    DID INT PRIMARY KEY IDENTITY(1,1),\r\n",
                "    AUTHOR INT NOT NULL,\r\n",
                "    LOC VARCHAR(40) NOT NULL UNIQUE, --blob reference\r\n",
                "    NICKNAME VARCHAR(64),\r\n",
                "    VIEWS INT NOT NULL,\r\n",
                "    CREATED_ON DATE NOT NULL,\r\n",
                "        FOREIGN KEY (AUTHOR) REFERENCES META.USER_INFO(S7ID)\r\n",
                ");\r\n",
                "\r\n",
                "--DROP INDEX IDX_DBAUTHOR ON META.DASHBOARDS;\r\n",
                "CREATE INDEX IDX_DBAUTHOR\r\n",
                "ON META.DASHBOARDS (DID, AUTHOR);\r\n",
                "\r\n",
                "--DROP INDEX IDX_LOC ON META.DASHBOARDS;\r\n",
                "CREATE INDEX IDX_LOC\r\n",
                "ON META.DASHBOARDS (DID, LOC);\r\n",
                "\r\n",
                "--DROP INDEX IDX_NICKNAME ON META.DASHBOARDS;\r\n",
                "CREATE INDEX IDX_NICKNAME\r\n",
                "ON META.DASHBOARDS(DID, NICKNAME);"
            ],
            "metadata": {
                "azdata_cell_guid": "ae9ae2e7-cd1e-44fe-9ad4-12b5470359ef",
                "tags": []
            },
            "outputs": [
                {
                    "output_type": "display_data",
                    "data": {
                        "text/html": "Commands completed successfully."
                    },
                    "metadata": {}
                },
                {
                    "output_type": "display_data",
                    "data": {
                        "text/html": "Total execution time: 00:00:00.084"
                    },
                    "metadata": {}
                }
            ],
            "execution_count": 5
        },
        {
            "cell_type": "markdown",
            "source": [
                "Creating a meta dashboard to keep track of who owns what dashboard"
            ],
            "metadata": {
                "azdata_cell_guid": "aa0d7a2d-6c5b-4a8d-b718-5c7fac4d1aa7"
            }
        },
        {
            "cell_type": "code",
            "source": [
                "DROP TABLE IF EXISTS META.SAVED_DBS;\r\n",
                "CREATE TABLE META.SAVED_DBS(\r\n",
                "    SDID INT PRIMARY KEY IDENTITY(1,1),\r\n",
                "    S7ID INT NOT NULL, \r\n",
                "    DID INT NOT NULL,\r\n",
                "    ADD_DATE DATE NOT NULL,\r\n",
                "    REMOVE_DATE DATE,\r\n",
                "        FOREIGN KEY (S7ID) REFERENCES META.USER_INFO(S7ID),\r\n",
                "        FOREIGN KEY (DID) REFERENCES META.DASHBOARDS(DID)\r\n",
                ");\r\n",
                "\r\n",
                "--DROP INDEX IDX_DASHBOARDS ON META.SAVED_DBS\r\n",
                "CREATE INDEX IDX_DASHBOARDS\r\n",
                "ON META.SAVED_DBS (S7ID, DID);"
            ],
            "metadata": {
                "azdata_cell_guid": "dd7aecad-1910-4c37-9934-c1b046345d81"
            },
            "outputs": [
                {
                    "output_type": "display_data",
                    "data": {
                        "text/html": "Commands completed successfully."
                    },
                    "metadata": {}
                },
                {
                    "output_type": "display_data",
                    "data": {
                        "text/html": "Total execution time: 00:00:00.067"
                    },
                    "metadata": {}
                }
            ],
            "execution_count": 6
        },
        {
            "cell_type": "markdown",
            "source": [
                "Indexes exist at the end of each table creation to speed up commonly searched identification queries."
            ],
            "metadata": {
                "azdata_cell_guid": "36127e1f-db48-4358-977f-9b6c8e9d940e"
            }
        }
    ]
}